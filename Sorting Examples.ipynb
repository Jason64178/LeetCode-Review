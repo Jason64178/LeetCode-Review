{
 "cells": [
  {
   "cell_type": "code",
   "execution_count": 1,
   "metadata": {},
   "outputs": [],
   "source": [
    "lists = [1, 4, 5, 6, 23 ,3 ,1, 5]"
   ]
  },
  {
   "cell_type": "markdown",
   "metadata": {},
   "source": [
    "# Bubble Sorting"
   ]
  },
  {
   "cell_type": "code",
   "execution_count": 2,
   "metadata": {},
   "outputs": [],
   "source": [
    "def bubble(lists):\n",
    "    length = len(lists)\n",
    "    for i in range(length - 1):\n",
    "        for j in range(length - 2, i - 1, -1):\n",
    "            if lists[j] > lists[j + 1]:\n",
    "                lists[j], lists[j + 1] = lists[j + 1], lists[j]"
   ]
  },
  {
   "cell_type": "code",
   "execution_count": 3,
   "metadata": {},
   "outputs": [
    {
     "data": {
      "text/plain": [
       "[1, 1, 3, 4, 5, 5, 6, 23]"
      ]
     },
     "execution_count": 3,
     "metadata": {},
     "output_type": "execute_result"
    }
   ],
   "source": [
    "bubble(lists)\n",
    "lists"
   ]
  },
  {
   "cell_type": "markdown",
   "metadata": {},
   "source": [
    "# Select Sorting"
   ]
  },
  {
   "cell_type": "code",
   "execution_count": 4,
   "metadata": {},
   "outputs": [],
   "source": [
    "def select(lists):\n",
    "    length = len(lists)\n",
    "    for i in range(length):\n",
    "        m = i\n",
    "        for j in range(i, length):\n",
    "            if lists[j] < lists[m]:\n",
    "                m = j\n",
    "        lists[i], lists[m] = lists[m], lists[i]"
   ]
  },
  {
   "cell_type": "code",
   "execution_count": 5,
   "metadata": {},
   "outputs": [],
   "source": [
    "lists = [1, 4, 5, 6, 23 ,3 ,1, 5]"
   ]
  },
  {
   "cell_type": "code",
   "execution_count": 6,
   "metadata": {},
   "outputs": [
    {
     "data": {
      "text/plain": [
       "[1, 1, 3, 4, 5, 5, 6, 23]"
      ]
     },
     "execution_count": 6,
     "metadata": {},
     "output_type": "execute_result"
    }
   ],
   "source": [
    "select(lists)\n",
    "lists"
   ]
  },
  {
   "cell_type": "markdown",
   "metadata": {},
   "source": [
    "# Insert Sorting"
   ]
  },
  {
   "cell_type": "code",
   "execution_count": 7,
   "metadata": {},
   "outputs": [],
   "source": [
    "lists = [1, 4, 5, 6, 23 ,3 ,1, 5]"
   ]
  },
  {
   "cell_type": "code",
   "execution_count": 8,
   "metadata": {},
   "outputs": [],
   "source": [
    "def insert(lists):\n",
    "    length = len(lists)\n",
    "    for i in range(1, length):\n",
    "        j = i - 1\n",
    "        m = i\n",
    "        while j >= 0 and lists[j] > lists[m]:\n",
    "            lists[j], lists[m] = lists[m], lists[j]\n",
    "            m = j\n",
    "            j -= 1"
   ]
  },
  {
   "cell_type": "code",
   "execution_count": 9,
   "metadata": {},
   "outputs": [
    {
     "data": {
      "text/plain": [
       "[1, 1, 3, 4, 5, 5, 6, 23]"
      ]
     },
     "execution_count": 9,
     "metadata": {},
     "output_type": "execute_result"
    }
   ],
   "source": [
    "insert(lists)\n",
    "lists"
   ]
  },
  {
   "cell_type": "markdown",
   "metadata": {},
   "source": [
    "# Shell Sorting"
   ]
  },
  {
   "cell_type": "code",
   "execution_count": 10,
   "metadata": {},
   "outputs": [],
   "source": [
    "lists = [1, 4, 5, 6, 23 ,3 ,0, 1, 5]"
   ]
  },
  {
   "cell_type": "code",
   "execution_count": 11,
   "metadata": {},
   "outputs": [],
   "source": [
    "def shell(lists):\n",
    "    gap = len(lists) // 2\n",
    "    while gap > 0:\n",
    "        for i in range(gap):\n",
    "            j = i + gap\n",
    "            while j < len(lists):\n",
    "                m = lists[j]\n",
    "                k = j - gap\n",
    "                while k >= 0 and lists[k] > m:\n",
    "                    lists[k + gap] = lists[k]\n",
    "                    lists[k] = m\n",
    "                    k -= gap\n",
    "                j += gap\n",
    "        gap = gap // 2"
   ]
  },
  {
   "cell_type": "code",
   "execution_count": 12,
   "metadata": {},
   "outputs": [],
   "source": [
    "shell(lists)"
   ]
  },
  {
   "cell_type": "code",
   "execution_count": 13,
   "metadata": {},
   "outputs": [
    {
     "data": {
      "text/plain": [
       "[0, 1, 1, 3, 4, 5, 5, 6, 23]"
      ]
     },
     "execution_count": 13,
     "metadata": {},
     "output_type": "execute_result"
    }
   ],
   "source": [
    "lists"
   ]
  },
  {
   "cell_type": "markdown",
   "metadata": {},
   "source": [
    "# Merge Sorting"
   ]
  },
  {
   "cell_type": "code",
   "execution_count": 14,
   "metadata": {},
   "outputs": [],
   "source": [
    "lists = [1, 4, 5, 6, 23 ,3 ,0, 1, 5]"
   ]
  },
  {
   "cell_type": "code",
   "execution_count": 15,
   "metadata": {},
   "outputs": [],
   "source": [
    "def mergesort(lists):\n",
    "    if len(lists) <= 1:\n",
    "        return lists\n",
    "    result = []\n",
    "    left = mergesort(lists[:len(lists) // 2])\n",
    "    right = mergesort(lists[len(lists) // 2:])\n",
    "    i = 0\n",
    "    j = 0\n",
    "    while i < len(left) and j < len(right):\n",
    "        if left[i] <= right[j]:\n",
    "            result.append(left[i])\n",
    "            i += 1\n",
    "        else:\n",
    "            result.append(right[j])\n",
    "            j += 1\n",
    "    if i == len(left):\n",
    "        return result + right[j:]\n",
    "    return result + left[i:]"
   ]
  },
  {
   "cell_type": "code",
   "execution_count": 16,
   "metadata": {},
   "outputs": [
    {
     "data": {
      "text/plain": [
       "[0, 1, 1, 3, 4, 5, 5, 6, 23]"
      ]
     },
     "execution_count": 16,
     "metadata": {},
     "output_type": "execute_result"
    }
   ],
   "source": [
    "mergesort(lists)"
   ]
  },
  {
   "cell_type": "markdown",
   "metadata": {},
   "source": [
    "# Quick Sorting"
   ]
  },
  {
   "cell_type": "code",
   "execution_count": 17,
   "metadata": {},
   "outputs": [],
   "source": [
    "lists = [1, 4, 5, 6, 23 ,3 ,0, 1, 2]"
   ]
  },
  {
   "cell_type": "code",
   "execution_count": 18,
   "metadata": {},
   "outputs": [],
   "source": [
    "def quick_sort(lists, start, end):\n",
    "    if end - start <= 0:\n",
    "        return\n",
    "    p = lists[end]\n",
    "    left = start\n",
    "    right = end - 1\n",
    "    while left < right:\n",
    "        while left < right and lists[left] <= p:\n",
    "            left += 1\n",
    "        while left < right and lists[right] > p:\n",
    "            right -= 1\n",
    "        if left < right:\n",
    "            temp = lists[left]\n",
    "            lists[left] = lists[right]\n",
    "            lists[right] = temp\n",
    "    if lists[left] > p:\n",
    "        lists[end] = lists[left]\n",
    "        lists[left] = p\n",
    "        quick_sort(lists, start, left - 1)\n",
    "        quick_sort(lists, left + 1, end)\n",
    "    else:\n",
    "        quick_sort(lists, start, end - 1)\n",
    "        \n",
    "    \n",
    "        "
   ]
  },
  {
   "cell_type": "code",
   "execution_count": 19,
   "metadata": {},
   "outputs": [],
   "source": [
    "# lists = [3, 5, 8, 1, 2, 9, 4, 7, 6] "
   ]
  },
  {
   "cell_type": "code",
   "execution_count": 20,
   "metadata": {},
   "outputs": [],
   "source": [
    "quick_sort(lists, 0, len(lists) - 1)"
   ]
  },
  {
   "cell_type": "code",
   "execution_count": 21,
   "metadata": {},
   "outputs": [
    {
     "data": {
      "text/plain": [
       "[0, 1, 1, 2, 3, 4, 5, 6, 23]"
      ]
     },
     "execution_count": 21,
     "metadata": {},
     "output_type": "execute_result"
    }
   ],
   "source": [
    "lists"
   ]
  },
  {
   "cell_type": "code",
   "execution_count": null,
   "metadata": {},
   "outputs": [],
   "source": []
  }
 ],
 "metadata": {
  "kernelspec": {
   "display_name": "Python 3",
   "language": "python",
   "name": "python3"
  },
  "language_info": {
   "codemirror_mode": {
    "name": "ipython",
    "version": 3
   },
   "file_extension": ".py",
   "mimetype": "text/x-python",
   "name": "python",
   "nbconvert_exporter": "python",
   "pygments_lexer": "ipython3",
   "version": "3.6.5"
  }
 },
 "nbformat": 4,
 "nbformat_minor": 2
}
